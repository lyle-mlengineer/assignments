{
 "cells": [
  {
   "cell_type": "markdown",
   "id": "b0d2309b",
   "metadata": {},
   "source": [
    "# Helper notes\n",
    "These are notes to help you setup various items needed throughout this course"
   ]
  },
  {
   "cell_type": "markdown",
   "id": "34110dae",
   "metadata": {},
   "source": [
    "## How to install Java on windows\n",
    "1. Check if Java is Already Installed\n",
    "Open the Command Prompt (search for cmd in the Start menu). \n",
    "Type java -version and press Enter. \n",
    "If you see a Java version, it's already installed. If not, you'll see an error indicating Java is not recognized. \n",
    "2. Download the Java Development Kit (JDK)\n",
    "Open a web browser and search for \"Java download\" or navigate to oracle.com. \n",
    "Find the latest Java Development Kit (JDK) version. \n",
    "Select the installer for the Windows operating system, choosing either the online installer (which downloads files during installation) or the offline installer (which contains all files). \n",
    "3. Install the JDK\n",
    "Locate the downloaded installer file and double-click it to run the installation wizard. \n",
    "You may be prompted by User Account Control; click Yes to allow the app to make changes to your device. \n",
    "Follow the on-screen instructions provided by the installer, typically accepting the default installation location. \n",
    "4. Verify the Installation \n",
    "Open a new Command Prompt window.\n",
    "Type java -version and press Enter again.\n",
    "If the installation was successful, the installed Java version will be displayed.\n",
    "\n",
    "## How to install Python on Windows\n",
    "1. Download the Installer:\n",
    "Go to the Python downloads page for Windows (python.org/downloads/) in your web browser and download the appropriate Windows installer for your system. \n",
    "2. Run the Installer:\n",
    "Locate the downloaded .exe file and double-click it to launch the Python installer. \n",
    "3. Add Python to PATH:\n",
    "On the first screen of the installer, it's crucial to check the box that says \"Add python.exe to PATH\". This allows you to run Python commands from any command prompt. \n",
    "4. Install Now or Customize:\n",
    "\"Install Now\": This installs Python with the default settings and features, including the Python launcher, IDLE (a simple Integrated Development and Learning Environment), and pip (a package installer). \n",
    "\"Customize installation\": If you need to change the installation directory or select specific components, choose this option. \n",
    "5. Complete Installation:\n",
    "Click through the remaining screens to finish the installation process. \n",
    "Verify the Installation\n",
    "Open a Command Prompt: Open the Command Prompt (you can search for \"cmd\" in the Windows search bar). \n",
    "Check the Version: Type the command python -V and press Enter. \n",
    "Confirm: If Python is installed correctly and added to your PATH, you will see the installed Python version printed in the terminal. \n",
    "## How to install VSCode on Windows\n",
    "1. Download the Visual Studio Code installer for Windows\n",
    "2. Once it is downloaded, run the installer (VSCodeUserSetup-{version}.exe)\n",
    "\n",
    "By default, VS Code is installed under C:\\Users\\{Username}\\AppData\\Local\\Programs\\Microsoft VS Code"
   ]
  },
  {
   "cell_type": "markdown",
   "id": "fa3b2981",
   "metadata": {},
   "source": [
    "## Setting up environment variables\n",
    "You need to setup the following environment variables:\n",
    "- SPARK_HOME\n",
    "- PYSPARK_PYTHON"
   ]
  },
  {
   "cell_type": "markdown",
   "id": "2f1d9d3a",
   "metadata": {},
   "source": [
    "## Apache Spark - Setting Up\n",
    "- Apache spark can run both locally on a laptop or in a hadoop cluster.\n",
    "- Apache Spark requires Java and Python to run on a local computer.\n",
    "#### Installing Locally\n",
    "- To install apache locally, head on over to the [Apache Spark Download Page](https://spark.apache.org/downloads.html)\n",
    "- Select the package type of ``Pre-built for Hadoop 2.7 and later`` and click ``Direct Download``\n",
    "- This downloads a compressed ``TAR file`` that you will need to uncompress.\n",
    "- Use ``7-zip`` to open this file.\n",
    "#### Installing Locally - Using python and pip (Preferred way)\n",
    "- You can install Apache Spark, using python. Make sure you have python3 installed in your system and the python path environment is set.\n",
    "- In a commandline, enter the command given below: ```pip install pyspark jupyter notebook```"
   ]
  },
  {
   "cell_type": "markdown",
   "id": "30f87d8e",
   "metadata": {},
   "source": [
    "## Setting up vscode extensions for development\n",
    "You will need the following extensions in order to work with vscode\n",
    "1. Python\n",
    "2. Jupyter notebook"
   ]
  }
 ],
 "metadata": {
  "language_info": {
   "name": "python"
  }
 },
 "nbformat": 4,
 "nbformat_minor": 5
}
