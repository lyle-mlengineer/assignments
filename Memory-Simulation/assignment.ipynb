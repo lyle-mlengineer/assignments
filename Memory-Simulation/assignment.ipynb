{
 "cells": [
  {
   "cell_type": "markdown",
   "id": "819254b8",
   "metadata": {},
   "source": [
    "## Addressing Modes\n",
    "\n",
    "- Addressing modes specify how a processor finds operands for its instructions, offering flexibility in data access. \n",
    "- Common modes include:\n",
    "1. immediate, where the operand is in the instruction itself; \n",
    "2. register, where the operand is in a CPU register; \n",
    "3. direct, where the instruction contains the memory address of the operand; and \n",
    "4. indirect, where the instruction provides the address of a memory location that holds the operand's address. \n",
    "- Other modes like indexed and relative allow for more complex memory access by using registers and offsets. \n",
    "\n",
    "**Common Addressing Modes**\n",
    "\n",
    "1. Immediate: The operand's value is directly included within the instruction. \n",
    "Example: ADD R1, #10 (add 10 directly to R1). \n",
    "2. Register: The operand is located in a CPU register. \n",
    "Example: MOV R1, R2 (move the content of R2 to R1). \n",
    "3. Direct (Absolute): The instruction's address field directly contains the memory address of the operand. \n",
    "Example: ADD R1, [1000] (add the content at memory address 1000 to R1). \n",
    "4. Indirect: The instruction contains the memory address of another memory location, which in turn holds the actual operand's address. \n",
    "Example: ADD R1, [[1000]] (add the content at the memory address pointed to by the value at memory address 1000 to R1). \n",
    "5. Indexed: The effective address is found by adding the content of an index register to a base address or offset provided in the instruction. \n",
    "Example: ADD R1, [Base_Address + Index_Register]. \n",
    "6. Relative: The effective address is calculated by adding an offset to the contents of the Program Counter (PC). This helps in making code relocatable. \n",
    "Example: The instruction's address field acts as an offset relative to the current instruction's address. \n",
    "\n",
    "**Purpose of Addressing Modes**\n",
    "\n",
    "- Flexibility: They provide various ways for instructions to access data, allowing for different programming needs. \n",
    "- Efficiency: They enable efficient use of memory and CPU resources by defining the most suitable method for operand retrieval. \n",
    "Instruction Design: They contribute to the design of instruction sets, influencing instruction length and complexity. "
   ]
  },
  {
   "cell_type": "markdown",
   "id": "8cbdf182",
   "metadata": {},
   "source": []
  }
 ],
 "metadata": {
  "language_info": {
   "name": "python"
  }
 },
 "nbformat": 4,
 "nbformat_minor": 5
}
